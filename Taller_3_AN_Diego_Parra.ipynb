{
  "nbformat": 4,
  "nbformat_minor": 0,
  "metadata": {
    "colab": {
      "provenance": [],
      "toc_visible": true,
      "collapsed_sections": [
        "zBYwZzjUGaPB"
      ],
      "include_colab_link": true
    },
    "kernelspec": {
      "name": "python3",
      "display_name": "Python 3"
    },
    "language_info": {
      "name": "python"
    }
  },
  "cells": [
    {
      "cell_type": "markdown",
      "metadata": {
        "id": "view-in-github",
        "colab_type": "text"
      },
      "source": [
        "<a href=\"https://colab.research.google.com/github/diparrama/portfolio-analitica-de-negocios/blob/main/Taller_3_AN_Diego_Parra.ipynb\" target=\"_parent\"><img src=\"https://colab.research.google.com/assets/colab-badge.svg\" alt=\"Open In Colab\"/></a>"
      ]
    },
    {
      "cell_type": "markdown",
      "source": [
        "#Optimización del Inventario en Lidl 🏢🔃\n",
        "\n",
        "Lidl es una tienda por departamentos que administra un inventario de más de 70,000 productos activos. En el sector retail, una gestión eficiente del inventario es fundamental para garantizar una alta rotación de productos, minimizar costos de almacenamiento y maximizar la rentabilidad.\n",
        "\n",
        "En este contexto, Lidl ha solicitado un análisis basado en modelos de regresión para identificar los factores clave que afectan las ventas de sus productos. A través de un enfoque basado en datos históricos, buscamos desarrollar modelos estadísticos que permitan:\n",
        "\n",
        "Explicar la cantidad de productos vendidos en función de variables como precio, año de fabricación y precio del productor.\n",
        "Predecir la probabilidad de venta de un producto, facilitando decisiones estratégicas en la gestión del inventario.\n",
        "Para cumplir con estos objetivos, se aplicará la Metodología Box-Jenkins, que permite realizar un análisis riguroso de los datos, evaluar la validez de los modelos y formular recomendaciones estratégicas para optimizar la toma de decisiones en Lidl.\n",
        "\n",
        "Analítica de Negocios I - 2024-2S\n",
        "\n",
        "Diego Esneider Parra Martinez\n",
        "\n"
      ],
      "metadata": {
        "id": "DiWe4D8HGduL"
      }
    },
    {
      "cell_type": "markdown",
      "source": [
        "##1 . Preliminares"
      ],
      "metadata": {
        "id": "zBYwZzjUGaPB"
      }
    },
    {
      "cell_type": "code",
      "execution_count": null,
      "metadata": {
        "id": "F-fvyfNsDBKG"
      },
      "outputs": [],
      "source": [
        "import pandas as pd\n",
        "import numpy as np\n",
        "import matplotlib.pyplot as plt\n",
        "import seaborn as sns\n",
        "import scipy as stats\n",
        "import statsmodels.formula.api as smf\n",
        "import sklearn as sk #diagnóstico del modelo\n",
        "import statsmodels.api as sm #estimación del modelo\n",
        "import statsmodels.formula.api as smf # estimación del modelo"
      ]
    },
    {
      "cell_type": "code",
      "source": [
        "data = pd.read_csv(\"/content/ventaslidl (3) - ventaslidl (3).csv\")\n",
        "data"
      ],
      "metadata": {
        "id": "wi3Lt3Usx-EH",
        "colab": {
          "base_uri": "https://localhost:8080/"
        },
        "outputId": "309faf9e-329a-4897-f87a-7061be9fe1fe"
      },
      "execution_count": null,
      "outputs": [
        {
          "output_type": "execute_result",
          "data": {
            "text/plain": [
              "        Unnamed: 0 tipo_registro      SKU  Vendido TipoMarketing  PrimeraVez  \\\n",
              "0                1    Historical  1737127      0.0             D           1   \n",
              "1                2    Historical  3255963      0.0             D           1   \n",
              "2                3    Historical   612701      0.0             D           0   \n",
              "3                4    Historical   115883      1.0             D           1   \n",
              "4                5    Historical   863939      1.0             D           1   \n",
              "...            ...           ...      ...      ...           ...         ...   \n",
              "198912      198913        Active   109683      NaN             D           1   \n",
              "198913      198914        Active   416462      NaN             D           1   \n",
              "198914      198915        Active   658242      NaN             S           1   \n",
              "198915      198916        Active  2538340      NaN             S           1   \n",
              "198916      198917        Active   416662      NaN             D           1   \n",
              "\n",
              "        PrecioRegular  AnioFabricacion  CantidadVendida  MenorPrecioVenta  \\\n",
              "0               44.99             2015                8             28.97   \n",
              "1               24.81             2005               39              0.00   \n",
              "2               46.00             2013               34             30.19   \n",
              "3              100.00             2006               20            133.93   \n",
              "4              121.95             2010               28              4.00   \n",
              "...               ...              ...              ...               ...   \n",
              "198912          72.87             2006               54              8.46   \n",
              "198913         247.00             2009               65              8.40   \n",
              "198914          50.00             2012               23             23.98   \n",
              "198915          46.95             2001               23             27.42   \n",
              "198916         120.00             2010               44             10.97   \n",
              "\n",
              "        PrecioNetoProductor  \n",
              "0                     31.84  \n",
              "1                     15.54  \n",
              "2                     27.97  \n",
              "3                     83.15  \n",
              "4                     23.99  \n",
              "...                     ...  \n",
              "198912                60.59  \n",
              "198913                74.85  \n",
              "198914                32.62  \n",
              "198915                37.89  \n",
              "198916                60.67  \n",
              "\n",
              "[198917 rows x 11 columns]"
            ],
            "text/html": [
              "\n",
              "  <div id=\"df-38820fb0-416c-4940-b8c5-65c861b03149\" class=\"colab-df-container\">\n",
              "    <div>\n",
              "<style scoped>\n",
              "    .dataframe tbody tr th:only-of-type {\n",
              "        vertical-align: middle;\n",
              "    }\n",
              "\n",
              "    .dataframe tbody tr th {\n",
              "        vertical-align: top;\n",
              "    }\n",
              "\n",
              "    .dataframe thead th {\n",
              "        text-align: right;\n",
              "    }\n",
              "</style>\n",
              "<table border=\"1\" class=\"dataframe\">\n",
              "  <thead>\n",
              "    <tr style=\"text-align: right;\">\n",
              "      <th></th>\n",
              "      <th>Unnamed: 0</th>\n",
              "      <th>tipo_registro</th>\n",
              "      <th>SKU</th>\n",
              "      <th>Vendido</th>\n",
              "      <th>TipoMarketing</th>\n",
              "      <th>PrimeraVez</th>\n",
              "      <th>PrecioRegular</th>\n",
              "      <th>AnioFabricacion</th>\n",
              "      <th>CantidadVendida</th>\n",
              "      <th>MenorPrecioVenta</th>\n",
              "      <th>PrecioNetoProductor</th>\n",
              "    </tr>\n",
              "  </thead>\n",
              "  <tbody>\n",
              "    <tr>\n",
              "      <th>0</th>\n",
              "      <td>1</td>\n",
              "      <td>Historical</td>\n",
              "      <td>1737127</td>\n",
              "      <td>0.0</td>\n",
              "      <td>D</td>\n",
              "      <td>1</td>\n",
              "      <td>44.99</td>\n",
              "      <td>2015</td>\n",
              "      <td>8</td>\n",
              "      <td>28.97</td>\n",
              "      <td>31.84</td>\n",
              "    </tr>\n",
              "    <tr>\n",
              "      <th>1</th>\n",
              "      <td>2</td>\n",
              "      <td>Historical</td>\n",
              "      <td>3255963</td>\n",
              "      <td>0.0</td>\n",
              "      <td>D</td>\n",
              "      <td>1</td>\n",
              "      <td>24.81</td>\n",
              "      <td>2005</td>\n",
              "      <td>39</td>\n",
              "      <td>0.00</td>\n",
              "      <td>15.54</td>\n",
              "    </tr>\n",
              "    <tr>\n",
              "      <th>2</th>\n",
              "      <td>3</td>\n",
              "      <td>Historical</td>\n",
              "      <td>612701</td>\n",
              "      <td>0.0</td>\n",
              "      <td>D</td>\n",
              "      <td>0</td>\n",
              "      <td>46.00</td>\n",
              "      <td>2013</td>\n",
              "      <td>34</td>\n",
              "      <td>30.19</td>\n",
              "      <td>27.97</td>\n",
              "    </tr>\n",
              "    <tr>\n",
              "      <th>3</th>\n",
              "      <td>4</td>\n",
              "      <td>Historical</td>\n",
              "      <td>115883</td>\n",
              "      <td>1.0</td>\n",
              "      <td>D</td>\n",
              "      <td>1</td>\n",
              "      <td>100.00</td>\n",
              "      <td>2006</td>\n",
              "      <td>20</td>\n",
              "      <td>133.93</td>\n",
              "      <td>83.15</td>\n",
              "    </tr>\n",
              "    <tr>\n",
              "      <th>4</th>\n",
              "      <td>5</td>\n",
              "      <td>Historical</td>\n",
              "      <td>863939</td>\n",
              "      <td>1.0</td>\n",
              "      <td>D</td>\n",
              "      <td>1</td>\n",
              "      <td>121.95</td>\n",
              "      <td>2010</td>\n",
              "      <td>28</td>\n",
              "      <td>4.00</td>\n",
              "      <td>23.99</td>\n",
              "    </tr>\n",
              "    <tr>\n",
              "      <th>...</th>\n",
              "      <td>...</td>\n",
              "      <td>...</td>\n",
              "      <td>...</td>\n",
              "      <td>...</td>\n",
              "      <td>...</td>\n",
              "      <td>...</td>\n",
              "      <td>...</td>\n",
              "      <td>...</td>\n",
              "      <td>...</td>\n",
              "      <td>...</td>\n",
              "      <td>...</td>\n",
              "    </tr>\n",
              "    <tr>\n",
              "      <th>198912</th>\n",
              "      <td>198913</td>\n",
              "      <td>Active</td>\n",
              "      <td>109683</td>\n",
              "      <td>NaN</td>\n",
              "      <td>D</td>\n",
              "      <td>1</td>\n",
              "      <td>72.87</td>\n",
              "      <td>2006</td>\n",
              "      <td>54</td>\n",
              "      <td>8.46</td>\n",
              "      <td>60.59</td>\n",
              "    </tr>\n",
              "    <tr>\n",
              "      <th>198913</th>\n",
              "      <td>198914</td>\n",
              "      <td>Active</td>\n",
              "      <td>416462</td>\n",
              "      <td>NaN</td>\n",
              "      <td>D</td>\n",
              "      <td>1</td>\n",
              "      <td>247.00</td>\n",
              "      <td>2009</td>\n",
              "      <td>65</td>\n",
              "      <td>8.40</td>\n",
              "      <td>74.85</td>\n",
              "    </tr>\n",
              "    <tr>\n",
              "      <th>198914</th>\n",
              "      <td>198915</td>\n",
              "      <td>Active</td>\n",
              "      <td>658242</td>\n",
              "      <td>NaN</td>\n",
              "      <td>S</td>\n",
              "      <td>1</td>\n",
              "      <td>50.00</td>\n",
              "      <td>2012</td>\n",
              "      <td>23</td>\n",
              "      <td>23.98</td>\n",
              "      <td>32.62</td>\n",
              "    </tr>\n",
              "    <tr>\n",
              "      <th>198915</th>\n",
              "      <td>198916</td>\n",
              "      <td>Active</td>\n",
              "      <td>2538340</td>\n",
              "      <td>NaN</td>\n",
              "      <td>S</td>\n",
              "      <td>1</td>\n",
              "      <td>46.95</td>\n",
              "      <td>2001</td>\n",
              "      <td>23</td>\n",
              "      <td>27.42</td>\n",
              "      <td>37.89</td>\n",
              "    </tr>\n",
              "    <tr>\n",
              "      <th>198916</th>\n",
              "      <td>198917</td>\n",
              "      <td>Active</td>\n",
              "      <td>416662</td>\n",
              "      <td>NaN</td>\n",
              "      <td>D</td>\n",
              "      <td>1</td>\n",
              "      <td>120.00</td>\n",
              "      <td>2010</td>\n",
              "      <td>44</td>\n",
              "      <td>10.97</td>\n",
              "      <td>60.67</td>\n",
              "    </tr>\n",
              "  </tbody>\n",
              "</table>\n",
              "<p>198917 rows × 11 columns</p>\n",
              "</div>\n",
              "    <div class=\"colab-df-buttons\">\n",
              "\n",
              "  <div class=\"colab-df-container\">\n",
              "    <button class=\"colab-df-convert\" onclick=\"convertToInteractive('df-38820fb0-416c-4940-b8c5-65c861b03149')\"\n",
              "            title=\"Convert this dataframe to an interactive table.\"\n",
              "            style=\"display:none;\">\n",
              "\n",
              "  <svg xmlns=\"http://www.w3.org/2000/svg\" height=\"24px\" viewBox=\"0 -960 960 960\">\n",
              "    <path d=\"M120-120v-720h720v720H120Zm60-500h600v-160H180v160Zm220 220h160v-160H400v160Zm0 220h160v-160H400v160ZM180-400h160v-160H180v160Zm440 0h160v-160H620v160ZM180-180h160v-160H180v160Zm440 0h160v-160H620v160Z\"/>\n",
              "  </svg>\n",
              "    </button>\n",
              "\n",
              "  <style>\n",
              "    .colab-df-container {\n",
              "      display:flex;\n",
              "      gap: 12px;\n",
              "    }\n",
              "\n",
              "    .colab-df-convert {\n",
              "      background-color: #E8F0FE;\n",
              "      border: none;\n",
              "      border-radius: 50%;\n",
              "      cursor: pointer;\n",
              "      display: none;\n",
              "      fill: #1967D2;\n",
              "      height: 32px;\n",
              "      padding: 0 0 0 0;\n",
              "      width: 32px;\n",
              "    }\n",
              "\n",
              "    .colab-df-convert:hover {\n",
              "      background-color: #E2EBFA;\n",
              "      box-shadow: 0px 1px 2px rgba(60, 64, 67, 0.3), 0px 1px 3px 1px rgba(60, 64, 67, 0.15);\n",
              "      fill: #174EA6;\n",
              "    }\n",
              "\n",
              "    .colab-df-buttons div {\n",
              "      margin-bottom: 4px;\n",
              "    }\n",
              "\n",
              "    [theme=dark] .colab-df-convert {\n",
              "      background-color: #3B4455;\n",
              "      fill: #D2E3FC;\n",
              "    }\n",
              "\n",
              "    [theme=dark] .colab-df-convert:hover {\n",
              "      background-color: #434B5C;\n",
              "      box-shadow: 0px 1px 3px 1px rgba(0, 0, 0, 0.15);\n",
              "      filter: drop-shadow(0px 1px 2px rgba(0, 0, 0, 0.3));\n",
              "      fill: #FFFFFF;\n",
              "    }\n",
              "  </style>\n",
              "\n",
              "    <script>\n",
              "      const buttonEl =\n",
              "        document.querySelector('#df-38820fb0-416c-4940-b8c5-65c861b03149 button.colab-df-convert');\n",
              "      buttonEl.style.display =\n",
              "        google.colab.kernel.accessAllowed ? 'block' : 'none';\n",
              "\n",
              "      async function convertToInteractive(key) {\n",
              "        const element = document.querySelector('#df-38820fb0-416c-4940-b8c5-65c861b03149');\n",
              "        const dataTable =\n",
              "          await google.colab.kernel.invokeFunction('convertToInteractive',\n",
              "                                                    [key], {});\n",
              "        if (!dataTable) return;\n",
              "\n",
              "        const docLinkHtml = 'Like what you see? Visit the ' +\n",
              "          '<a target=\"_blank\" href=https://colab.research.google.com/notebooks/data_table.ipynb>data table notebook</a>'\n",
              "          + ' to learn more about interactive tables.';\n",
              "        element.innerHTML = '';\n",
              "        dataTable['output_type'] = 'display_data';\n",
              "        await google.colab.output.renderOutput(dataTable, element);\n",
              "        const docLink = document.createElement('div');\n",
              "        docLink.innerHTML = docLinkHtml;\n",
              "        element.appendChild(docLink);\n",
              "      }\n",
              "    </script>\n",
              "  </div>\n",
              "\n",
              "\n",
              "<div id=\"df-de992b48-b465-400c-b39f-1fcd184c9f73\">\n",
              "  <button class=\"colab-df-quickchart\" onclick=\"quickchart('df-de992b48-b465-400c-b39f-1fcd184c9f73')\"\n",
              "            title=\"Suggest charts\"\n",
              "            style=\"display:none;\">\n",
              "\n",
              "<svg xmlns=\"http://www.w3.org/2000/svg\" height=\"24px\"viewBox=\"0 0 24 24\"\n",
              "     width=\"24px\">\n",
              "    <g>\n",
              "        <path d=\"M19 3H5c-1.1 0-2 .9-2 2v14c0 1.1.9 2 2 2h14c1.1 0 2-.9 2-2V5c0-1.1-.9-2-2-2zM9 17H7v-7h2v7zm4 0h-2V7h2v10zm4 0h-2v-4h2v4z\"/>\n",
              "    </g>\n",
              "</svg>\n",
              "  </button>\n",
              "\n",
              "<style>\n",
              "  .colab-df-quickchart {\n",
              "      --bg-color: #E8F0FE;\n",
              "      --fill-color: #1967D2;\n",
              "      --hover-bg-color: #E2EBFA;\n",
              "      --hover-fill-color: #174EA6;\n",
              "      --disabled-fill-color: #AAA;\n",
              "      --disabled-bg-color: #DDD;\n",
              "  }\n",
              "\n",
              "  [theme=dark] .colab-df-quickchart {\n",
              "      --bg-color: #3B4455;\n",
              "      --fill-color: #D2E3FC;\n",
              "      --hover-bg-color: #434B5C;\n",
              "      --hover-fill-color: #FFFFFF;\n",
              "      --disabled-bg-color: #3B4455;\n",
              "      --disabled-fill-color: #666;\n",
              "  }\n",
              "\n",
              "  .colab-df-quickchart {\n",
              "    background-color: var(--bg-color);\n",
              "    border: none;\n",
              "    border-radius: 50%;\n",
              "    cursor: pointer;\n",
              "    display: none;\n",
              "    fill: var(--fill-color);\n",
              "    height: 32px;\n",
              "    padding: 0;\n",
              "    width: 32px;\n",
              "  }\n",
              "\n",
              "  .colab-df-quickchart:hover {\n",
              "    background-color: var(--hover-bg-color);\n",
              "    box-shadow: 0 1px 2px rgba(60, 64, 67, 0.3), 0 1px 3px 1px rgba(60, 64, 67, 0.15);\n",
              "    fill: var(--button-hover-fill-color);\n",
              "  }\n",
              "\n",
              "  .colab-df-quickchart-complete:disabled,\n",
              "  .colab-df-quickchart-complete:disabled:hover {\n",
              "    background-color: var(--disabled-bg-color);\n",
              "    fill: var(--disabled-fill-color);\n",
              "    box-shadow: none;\n",
              "  }\n",
              "\n",
              "  .colab-df-spinner {\n",
              "    border: 2px solid var(--fill-color);\n",
              "    border-color: transparent;\n",
              "    border-bottom-color: var(--fill-color);\n",
              "    animation:\n",
              "      spin 1s steps(1) infinite;\n",
              "  }\n",
              "\n",
              "  @keyframes spin {\n",
              "    0% {\n",
              "      border-color: transparent;\n",
              "      border-bottom-color: var(--fill-color);\n",
              "      border-left-color: var(--fill-color);\n",
              "    }\n",
              "    20% {\n",
              "      border-color: transparent;\n",
              "      border-left-color: var(--fill-color);\n",
              "      border-top-color: var(--fill-color);\n",
              "    }\n",
              "    30% {\n",
              "      border-color: transparent;\n",
              "      border-left-color: var(--fill-color);\n",
              "      border-top-color: var(--fill-color);\n",
              "      border-right-color: var(--fill-color);\n",
              "    }\n",
              "    40% {\n",
              "      border-color: transparent;\n",
              "      border-right-color: var(--fill-color);\n",
              "      border-top-color: var(--fill-color);\n",
              "    }\n",
              "    60% {\n",
              "      border-color: transparent;\n",
              "      border-right-color: var(--fill-color);\n",
              "    }\n",
              "    80% {\n",
              "      border-color: transparent;\n",
              "      border-right-color: var(--fill-color);\n",
              "      border-bottom-color: var(--fill-color);\n",
              "    }\n",
              "    90% {\n",
              "      border-color: transparent;\n",
              "      border-bottom-color: var(--fill-color);\n",
              "    }\n",
              "  }\n",
              "</style>\n",
              "\n",
              "  <script>\n",
              "    async function quickchart(key) {\n",
              "      const quickchartButtonEl =\n",
              "        document.querySelector('#' + key + ' button');\n",
              "      quickchartButtonEl.disabled = true;  // To prevent multiple clicks.\n",
              "      quickchartButtonEl.classList.add('colab-df-spinner');\n",
              "      try {\n",
              "        const charts = await google.colab.kernel.invokeFunction(\n",
              "            'suggestCharts', [key], {});\n",
              "      } catch (error) {\n",
              "        console.error('Error during call to suggestCharts:', error);\n",
              "      }\n",
              "      quickchartButtonEl.classList.remove('colab-df-spinner');\n",
              "      quickchartButtonEl.classList.add('colab-df-quickchart-complete');\n",
              "    }\n",
              "    (() => {\n",
              "      let quickchartButtonEl =\n",
              "        document.querySelector('#df-de992b48-b465-400c-b39f-1fcd184c9f73 button');\n",
              "      quickchartButtonEl.style.display =\n",
              "        google.colab.kernel.accessAllowed ? 'block' : 'none';\n",
              "    })();\n",
              "  </script>\n",
              "</div>\n",
              "\n",
              "  <div id=\"id_a8995988-6c4c-454a-96db-d23974e5e67b\">\n",
              "    <style>\n",
              "      .colab-df-generate {\n",
              "        background-color: #E8F0FE;\n",
              "        border: none;\n",
              "        border-radius: 50%;\n",
              "        cursor: pointer;\n",
              "        display: none;\n",
              "        fill: #1967D2;\n",
              "        height: 32px;\n",
              "        padding: 0 0 0 0;\n",
              "        width: 32px;\n",
              "      }\n",
              "\n",
              "      .colab-df-generate:hover {\n",
              "        background-color: #E2EBFA;\n",
              "        box-shadow: 0px 1px 2px rgba(60, 64, 67, 0.3), 0px 1px 3px 1px rgba(60, 64, 67, 0.15);\n",
              "        fill: #174EA6;\n",
              "      }\n",
              "\n",
              "      [theme=dark] .colab-df-generate {\n",
              "        background-color: #3B4455;\n",
              "        fill: #D2E3FC;\n",
              "      }\n",
              "\n",
              "      [theme=dark] .colab-df-generate:hover {\n",
              "        background-color: #434B5C;\n",
              "        box-shadow: 0px 1px 3px 1px rgba(0, 0, 0, 0.15);\n",
              "        filter: drop-shadow(0px 1px 2px rgba(0, 0, 0, 0.3));\n",
              "        fill: #FFFFFF;\n",
              "      }\n",
              "    </style>\n",
              "    <button class=\"colab-df-generate\" onclick=\"generateWithVariable('data')\"\n",
              "            title=\"Generate code using this dataframe.\"\n",
              "            style=\"display:none;\">\n",
              "\n",
              "  <svg xmlns=\"http://www.w3.org/2000/svg\" height=\"24px\"viewBox=\"0 0 24 24\"\n",
              "       width=\"24px\">\n",
              "    <path d=\"M7,19H8.4L18.45,9,17,7.55,7,17.6ZM5,21V16.75L18.45,3.32a2,2,0,0,1,2.83,0l1.4,1.43a1.91,1.91,0,0,1,.58,1.4,1.91,1.91,0,0,1-.58,1.4L9.25,21ZM18.45,9,17,7.55Zm-12,3A5.31,5.31,0,0,0,4.9,8.1,5.31,5.31,0,0,0,1,6.5,5.31,5.31,0,0,0,4.9,4.9,5.31,5.31,0,0,0,6.5,1,5.31,5.31,0,0,0,8.1,4.9,5.31,5.31,0,0,0,12,6.5,5.46,5.46,0,0,0,6.5,12Z\"/>\n",
              "  </svg>\n",
              "    </button>\n",
              "    <script>\n",
              "      (() => {\n",
              "      const buttonEl =\n",
              "        document.querySelector('#id_a8995988-6c4c-454a-96db-d23974e5e67b button.colab-df-generate');\n",
              "      buttonEl.style.display =\n",
              "        google.colab.kernel.accessAllowed ? 'block' : 'none';\n",
              "\n",
              "      buttonEl.onclick = () => {\n",
              "        google.colab.notebook.generateWithVariable('data');\n",
              "      }\n",
              "      })();\n",
              "    </script>\n",
              "  </div>\n",
              "\n",
              "    </div>\n",
              "  </div>\n"
            ],
            "application/vnd.google.colaboratory.intrinsic+json": {
              "type": "dataframe",
              "variable_name": "data"
            }
          },
          "metadata": {},
          "execution_count": 5
        }
      ]
    },
    {
      "cell_type": "markdown",
      "source": [
        "##2. Modelado"
      ],
      "metadata": {
        "id": "8rEb0TgOJUy4"
      }
    },
    {
      "cell_type": "markdown",
      "source": [
        "### 2.1 Identificación"
      ],
      "metadata": {
        "id": "_YQ5BXrUCXum"
      }
    },
    {
      "cell_type": "markdown",
      "source": [
        "El objetivo del primer modelo es estimar las cantidades vendidas de los productos. Para esto tendremos en cuenta los siguientes supuestos:\n",
        "\n",
        "- Por las características del modelo únicamente utilizaremos datos históricos (Historical)\n",
        "- Solo se tendrán en cuenta productos cuyo precio regular sea mayor a cero\n",
        "\n",
        "La ecuación a estimar en este modelo seguirá la siguiente estructura:\n",
        "\n",
        "Cantidadvendida = B0 + B1 (Vendido) + B2 (TipoMarketing) + B3 (PrimeraVez) + B4 (PrecioRegular) + B5 (AñoFabricacion) + B6 (MenorPrecioVenta) + B7 (PrecioNetoProductor) + E\n",
        "\n",
        "Buscamos el mejor modelo posible de Regresión Lineal para explicar las cantidades vendidas, y generar recomendaciones para su implementación\n"
      ],
      "metadata": {
        "id": "6pspn7HEd5qq"
      }
    },
    {
      "cell_type": "code",
      "source": [
        "#Separar los datos históricos\n"
      ],
      "metadata": {
        "id": "V_YlQAv-gu_i"
      },
      "execution_count": null,
      "outputs": []
    },
    {
      "cell_type": "code",
      "source": [
        "# prompt: FILTRAR LA BASE LLAMADA DATA POR SOLO LOS TIPOREGISTRO QUE SEAN HISTORICAL Y CUENTE EL TOTAL DE REGISTROS\n",
        "\n",
        "# Filtrar la base de datos para obtener solo los registros históricos\n",
        "data_historica = data[data['tipo_registro'] == 'Historical']\n",
        "\n",
        "# Contar el total de registros históricos\n",
        "total_registros_historicos = len(data_historica)\n",
        "\n",
        "print(f\"Total de registros históricos: {total_registros_historicos}\")\n"
      ],
      "metadata": {
        "colab": {
          "base_uri": "https://localhost:8080/"
        },
        "id": "fFRKXBPhg7or",
        "outputId": "e0ca907f-9412-4465-b96b-56220f7b3dd6"
      },
      "execution_count": null,
      "outputs": [
        {
          "output_type": "stream",
          "name": "stdout",
          "text": [
            "Total de registros históricos: 75996\n"
          ]
        }
      ]
    },
    {
      "cell_type": "code",
      "source": [
        "# prompt: seleccione de la base data_historica solamente los registros cuyo precioregular sea mayor a cero\n",
        "\n",
        "# Filtrar la base de datos para obtener solo los registros históricos con precio regular mayor a cero\n",
        "data_historica_precio_positivo = data_historica[data_historica['PrecioRegular'] > 0]\n",
        "\n",
        "# Contar el total de registros históricos con precio regular mayor a cero\n",
        "total_registros_historicos_precio_positivo = len(data_historica_precio_positivo)\n",
        "\n",
        "print(f\"Total de registros históricos con precio regular mayor a cero: {total_registros_historicos_precio_positivo}\")\n"
      ],
      "metadata": {
        "colab": {
          "base_uri": "https://localhost:8080/"
        },
        "id": "_T-73cwwhpUH",
        "outputId": "7b0b7a6d-f99e-4a32-f4e8-10ae35b075f8"
      },
      "execution_count": null,
      "outputs": [
        {
          "output_type": "stream",
          "name": "stdout",
          "text": [
            "Total de registros históricos con precio regular mayor a cero: 74601\n"
          ]
        }
      ]
    },
    {
      "cell_type": "markdown",
      "source": [
        "### 2.2 Estimación"
      ],
      "metadata": {
        "id": "xfrjD9f8Ce_K"
      }
    },
    {
      "cell_type": "markdown",
      "source": [
        "Ahora que tenemos la base preparada le pedimos a Python que nos haga las estimación del modelo, para eso usaremos la librería statmodels"
      ],
      "metadata": {
        "id": "XPxki4cziSJm"
      }
    },
    {
      "cell_type": "code",
      "source": [
        "# Creación del modelo utilizando el modo fórmula (similar a R)\n",
        "modelo1 = smf.ols(formula = 'CantidadVendida~Vendido+TipoMarketing+PrimeraVez+PrecioRegular+AnioFabricacion+MenorPrecioVenta+PrecioNetoProductor', data = data_historica_precio_positivo)\n",
        "modelo1 = modelo1.fit() #crea los diagnósticos del modelo\n",
        "print(modelo1.summary()) #muestra los resultados completos del modelo"
      ],
      "metadata": {
        "id": "r4ZKOYLSJIa0",
        "colab": {
          "base_uri": "https://localhost:8080/"
        },
        "outputId": "001143c3-54e2-4043-e03b-705af9d6c190"
      },
      "execution_count": null,
      "outputs": [
        {
          "output_type": "stream",
          "name": "stdout",
          "text": [
            "                            OLS Regression Results                            \n",
            "==============================================================================\n",
            "Dep. Variable:        CantidadVendida   R-squared:                       0.084\n",
            "Model:                            OLS   Adj. R-squared:                  0.084\n",
            "Method:                 Least Squares   F-statistic:                     976.1\n",
            "Date:                Thu, 06 Mar 2025   Prob (F-statistic):               0.00\n",
            "Time:                        12:07:54   Log-Likelihood:            -3.7308e+05\n",
            "No. Observations:               74601   AIC:                         7.462e+05\n",
            "Df Residuals:                   74593   BIC:                         7.463e+05\n",
            "Df Model:                           7                                         \n",
            "Covariance Type:            nonrobust                                         \n",
            "=======================================================================================\n",
            "                          coef    std err          t      P>|t|      [0.025      0.975]\n",
            "---------------------------------------------------------------------------------------\n",
            "Intercept            -873.3293     45.170    -19.334      0.000    -961.862    -784.796\n",
            "TipoMarketing[T.S]     -7.8422      0.278    -28.180      0.000      -8.388      -7.297\n",
            "Vendido                20.6443      0.361     57.204      0.000      19.937      21.352\n",
            "PrimeraVez              6.7793      0.332     20.402      0.000       6.128       7.431\n",
            "PrecioRegular           0.0093      0.002      5.336      0.000       0.006       0.013\n",
            "AnioFabricacion         0.4552      0.023     20.190      0.000       0.411       0.499\n",
            "MenorPrecioVenta    -2.381e-05      0.001     -0.019      0.985      -0.003       0.002\n",
            "PrecioNetoProductor    -0.0270      0.001    -24.175      0.000      -0.029      -0.025\n",
            "==============================================================================\n",
            "Omnibus:                    91842.021   Durbin-Watson:                   1.623\n",
            "Prob(Omnibus):                  0.000   Jarque-Bera (JB):         44352620.903\n",
            "Skew:                           6.231   Prob(JB):                         0.00\n",
            "Kurtosis:                     121.800   Cond. No.                     6.90e+05\n",
            "==============================================================================\n",
            "\n",
            "Notes:\n",
            "[1] Standard Errors assume that the covariance matrix of the errors is correctly specified.\n",
            "[2] The condition number is large, 6.9e+05. This might indicate that there are\n",
            "strong multicollinearity or other numerical problems.\n"
          ]
        }
      ]
    },
    {
      "cell_type": "markdown",
      "source": [
        "### 2.3 Diagnóstico"
      ],
      "metadata": {
        "id": "zNMs95_ZCg4c"
      }
    },
    {
      "cell_type": "markdown",
      "source": [
        "Dentro de los diagnósticos del modelo haremos tres pruebas:\n",
        "\n",
        " - Prueba de Significancia Global\n",
        " - Prueba de Significancia Individual\n",
        " - Prueba de Bondad de Ajuste"
      ],
      "metadata": {
        "id": "WLDoH9hBlG4E"
      }
    },
    {
      "cell_type": "markdown",
      "source": [
        "### 2.3.1 Prueba de Significancia Global\n",
        "\n",
        "La prueba de significancia global tiene el objetivo de determinar si el modelo empleado ajusta la realidad de los datos. Para eso se construye una prueba de hipótesis tipo F con las siguientes características:\n",
        "\n",
        "\n",
        "![image.png](data:image/png;base64,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)"
      ],
      "metadata": {
        "id": "3PkAw0rIlUj_"
      }
    },
    {
      "cell_type": "markdown",
      "source": [
        "Como muestra el resultado del modelo el p-valor de la prueba F dio 0.0, lo que significa que ese p-valor es menor alfa, lo cual rechaza la H0 de que no hay modelo, por tanto se puede concluir que si hay modelo en este caso.\n",
        "\n",
        "En caso tal de que la prueba F diera un p-valor>alfa, esto implicaría regresar a la fase de identificación, ajustar el modelo y reestimarlo"
      ],
      "metadata": {
        "id": "-r-toBydm3Mw"
      }
    },
    {
      "cell_type": "markdown",
      "source": [
        "### 2.3.2 Prueba de significancia individual\n",
        "\n",
        "La prueba de significancia individual se hace con el propósito de determinar que variables aportan y cuales variables no aportan al modelo. Para su construcción se realiza una prueba T.\n",
        "\n",
        "![image.png](data:image/png;base64,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)"
      ],
      "metadata": {
        "id": "tFZLhLnunPYN"
      }
    },
    {
      "cell_type": "markdown",
      "source": [
        "Como se puede apreciar en el resultado del modelo todas las variables tienen un p-valor menor que alfa para la Prueba T de Significancia Individual excepto MenorPrecioVenta.\n",
        "\n",
        "Con el resultado de esta prueba se pueden tomar dos decisiones:\n",
        "\n",
        "- Mantener la variable en el modelo pero realizando alguna transformación (transformar en logaritmo, estandarizar, convertir en rangos, convertir en categórica).\n",
        "- Eliminar la variable del modelo (esta opción la debemos elegir siempre que podamos asegurar que hay suficientes variables adicionales en el modelo)"
      ],
      "metadata": {
        "id": "eAhhdy3Vokq9"
      }
    },
    {
      "cell_type": "markdown",
      "source": [
        "### 2.3.3 Prueba de Bondad de Ajuste\n",
        "\n",
        "La bondad de ajuste es un concepto que se usa para representar el % de variabilidad explicada del modelo: que proporción de la variabilidad de Y es explicada por las variables X.\n",
        "\n",
        "Para su cálculo se usa la medida llamada \"Coeficiente de determinación\" más conocida como R cuadrado (R2).\n",
        "\n",
        "![image.png](data:image/png;base64,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)"
      ],
      "metadata": {
        "id": "CqpdpE6MqDnV"
      }
    },
    {
      "cell_type": "markdown",
      "source": [
        "Los resultados del modelo nos muestran que el R2 es 8.4%. Esto significa que las variables X (independiente) apenas explican un 8.4% de la variabilidad de las cantidades vendidas. Esto también significa que todos los factores no medidos o no observados (los del término de error) son el 91.6% restante."
      ],
      "metadata": {
        "id": "-aKQFIOurHH2"
      }
    },
    {
      "cell_type": "markdown",
      "source": [
        "### Iteración # 1: Modelo 2 eliminando la variable MenorPrecioVenta"
      ],
      "metadata": {
        "id": "VBxpqakLtHoS"
      }
    },
    {
      "cell_type": "markdown",
      "source": [
        "### Identificación Modelo 2\n",
        "\n",
        "Es el mismo modelo 1 estimando la cantidadvendida, pero ahora excluyendo la variable MenorPrecioVenta\n",
        "\n",
        "La ecuación a estimar en este modelo seguirá la siguiente estructura:\n",
        "\n",
        "Cantidadvendida = B0 + B1 (Vendido) + B2 (TipoMarketing) + B3 (PrimeraVez) + B4 (PrecioRegular) + B5 (AñoFabricacion) + B6 (PrecioNetoProductor) + E\n"
      ],
      "metadata": {
        "id": "hlmjgksStX_Z"
      }
    },
    {
      "cell_type": "markdown",
      "source": [
        "### Estimación del Modelo 2"
      ],
      "metadata": {
        "id": "jZ6RkWsGtydM"
      }
    },
    {
      "cell_type": "code",
      "source": [
        "# Creación del modelo utilizando el modo fórmula (similar a R)\n",
        "modelo2 = smf.ols(formula = 'CantidadVendida~Vendido+TipoMarketing+PrimeraVez+PrecioRegular+AnioFabricacion+PrecioNetoProductor', data = data_historica_precio_positivo)\n",
        "modelo2 = modelo2.fit() #crea los diagnósticos del modelo\n",
        "print(modelo2.summary()) #muestra los resultados completos del modelo"
      ],
      "metadata": {
        "colab": {
          "base_uri": "https://localhost:8080/"
        },
        "id": "tLfsvMHgt0aB",
        "outputId": "87b1e6f0-97ad-4c4b-ef7a-e0b8300e543b"
      },
      "execution_count": null,
      "outputs": [
        {
          "output_type": "stream",
          "name": "stdout",
          "text": [
            "                            OLS Regression Results                            \n",
            "==============================================================================\n",
            "Dep. Variable:        CantidadVendida   R-squared:                       0.084\n",
            "Model:                            OLS   Adj. R-squared:                  0.084\n",
            "Method:                 Least Squares   F-statistic:                     1139.\n",
            "Date:                Thu, 06 Mar 2025   Prob (F-statistic):               0.00\n",
            "Time:                        12:07:55   Log-Likelihood:            -3.7308e+05\n",
            "No. Observations:               74601   AIC:                         7.462e+05\n",
            "Df Residuals:                   74594   BIC:                         7.462e+05\n",
            "Df Model:                           6                                         \n",
            "Covariance Type:            nonrobust                                         \n",
            "=======================================================================================\n",
            "                          coef    std err          t      P>|t|      [0.025      0.975]\n",
            "---------------------------------------------------------------------------------------\n",
            "Intercept            -873.3323     45.169    -19.335      0.000    -961.864    -784.800\n",
            "TipoMarketing[T.S]     -7.8416      0.277    -28.346      0.000      -8.384      -7.299\n",
            "Vendido                20.6442      0.361     57.215      0.000      19.937      21.351\n",
            "PrimeraVez              6.7790      0.332     20.429      0.000       6.129       7.429\n",
            "PrecioRegular           0.0093      0.002      5.395      0.000       0.006       0.013\n",
            "AnioFabricacion         0.4552      0.023     20.191      0.000       0.411       0.499\n",
            "PrecioNetoProductor    -0.0270      0.001    -24.181      0.000      -0.029      -0.025\n",
            "==============================================================================\n",
            "Omnibus:                    91842.038   Durbin-Watson:                   1.623\n",
            "Prob(Omnibus):                  0.000   Jarque-Bera (JB):         44352710.015\n",
            "Skew:                           6.231   Prob(JB):                         0.00\n",
            "Kurtosis:                     121.800   Cond. No.                     6.89e+05\n",
            "==============================================================================\n",
            "\n",
            "Notes:\n",
            "[1] Standard Errors assume that the covariance matrix of the errors is correctly specified.\n",
            "[2] The condition number is large, 6.89e+05. This might indicate that there are\n",
            "strong multicollinearity or other numerical problems.\n"
          ]
        }
      ]
    },
    {
      "cell_type": "markdown",
      "source": [
        "### Diagnóstico Modelo 2\n",
        "\n",
        "🔹 Prueba F de significancia global: p-valor es menor que alfa, por ende, el modelo si ajusta los datos.\n",
        "\n",
        "🔹Prueba T de significancia individual: p-valor es menor que alfa para todas las variables, por tanto, todas las variables aportan\n",
        "\n",
        "🔹Bondad de ajuste: R cuadrado de este modelo es 8.4% igual que el modelo 1"
      ],
      "metadata": {
        "id": "9QaRQuk6uOtr"
      }
    },
    {
      "cell_type": "markdown",
      "source": [
        "## Iteración 2: modelo 3 (transformación Log-Log)\n"
      ],
      "metadata": {
        "id": "tQmbsnAtv293"
      }
    },
    {
      "cell_type": "markdown",
      "source": [
        "### Identificación Modelo 3"
      ],
      "metadata": {
        "id": "pfHSsSKQwHTj"
      }
    },
    {
      "cell_type": "markdown",
      "source": [
        "Este modelo # 3 será estimado usando la transformación Log-Log, es decir, aplicando logaritmos sobre todas las varibles posibles.\n",
        "\n",
        "Entenderemos como variables posibles aquellas que no tengan valores cero.\n",
        "\n",
        "Por tanto, un primer supuesto que tendra este modelo es que eliminaremos los datos cuya cantidadvendida (Y: dependiente) sea cero.\n",
        "\n",
        "Como segundo supuesto, tendremos que descartar las variables categóricas del modelo. Esto significa que el modelo no puede incluir las variables primeravez, tipomarketing o Vendido. En las demás varibles escalares debemos también descartar los valores cero."
      ],
      "metadata": {
        "id": "IXY1t3TuwLim"
      }
    },
    {
      "cell_type": "markdown",
      "source": [],
      "metadata": {
        "id": "vdG578ypxjQ1"
      }
    },
    {
      "cell_type": "code",
      "source": [
        "#Transformaciones requeridas para el modelo 3\n"
      ],
      "metadata": {
        "id": "EGLkNF7Rwwdq"
      },
      "execution_count": null,
      "outputs": []
    },
    {
      "cell_type": "code",
      "source": [
        "# prompt: tome la base data_historica_precio_positivo y excluya los valores de cantidadvendida que sean cero, y excluya los valores de precioregular=0 y precionetoproducto=0 y aniofabricacion=0\n",
        "\n",
        "# Assuming 'data_historica_precio_positivo' is your DataFrame\n",
        "data_historica_precio_positivo3 = data_historica_precio_positivo[data_historica_precio_positivo['CantidadVendida'] != 0]\n",
        "data_historica_precio_positivo3 = data_historica_precio_positivo[data_historica_precio_positivo['PrecioRegular'] != 0]\n",
        "data_historica_precio_positivo3 = data_historica_precio_positivo[data_historica_precio_positivo['PrecioNetoProductor'] != 0]\n",
        "data_historica_precio_positivo3 = data_historica_precio_positivo[data_historica_precio_positivo['AnioFabricacion'] != 0]\n",
        "\n",
        "# Contar el total de registros históricos\n",
        "total_registros_modelo3 = len(data_historica_precio_positivo3)\n",
        "\n",
        "print(f\"Total de registros históricos: {total_registros_modelo3}\")"
      ],
      "metadata": {
        "colab": {
          "base_uri": "https://localhost:8080/"
        },
        "id": "bpj8ZoiSw_Rb",
        "outputId": "65aa2d68-e56b-4903-8f8f-d821239079a3"
      },
      "execution_count": null,
      "outputs": [
        {
          "output_type": "stream",
          "name": "stdout",
          "text": [
            "Total de registros históricos: 74601\n"
          ]
        }
      ]
    },
    {
      "cell_type": "markdown",
      "source": [
        "### Estimación del modelo 3"
      ],
      "metadata": {
        "id": "nLi98PM8yWoS"
      }
    },
    {
      "cell_type": "code",
      "source": [
        "# prompt: toma la ecuación del modelo modelo3 = smf.ols(formula = 'CantidadVendida~PrecioRegular+AnioFabricacion+PrecioNetoProductor', data = data_historica_precio_positivo3)\n",
        "# y aplica logaritmo sobre las variables\n",
        "\n",
        "# Assuming 'data_historica_precio_positivo3' is your DataFrame and it has been prepared as in the previous code\n",
        "\n",
        "# Apply logarithm to the relevant columns, handling potential errors\n",
        "import numpy as np\n",
        "\n",
        "for col in ['CantidadVendida', 'PrecioRegular', 'AnioFabricacion', 'PrecioNetoProductor']:\n",
        "    # Use NumPy's log1p to handle zeros and near-zeros gracefully. log1p(x) = log(1+x)\n",
        "    data_historica_precio_positivo3[f'log_{col}'] = np.log1p(data_historica_precio_positivo3[col])\n",
        "\n",
        "# Now create and fit your model using the log-transformed variables:\n",
        "modelo3 = smf.ols(formula = 'log_CantidadVendida ~ log_PrecioRegular + log_AnioFabricacion + log_PrecioNetoProductor',\n",
        "                  data = data_historica_precio_positivo3)\n",
        "modelo3 = modelo3.fit()\n",
        "print(modelo3.summary())\n",
        "\n"
      ],
      "metadata": {
        "colab": {
          "base_uri": "https://localhost:8080/"
        },
        "id": "nflOFWuhzPR5",
        "outputId": "f4279210-942a-41d9-b3bd-cf38f22e1980"
      },
      "execution_count": null,
      "outputs": [
        {
          "output_type": "stream",
          "name": "stdout",
          "text": [
            "                             OLS Regression Results                            \n",
            "===============================================================================\n",
            "Dep. Variable:     log_CantidadVendida   R-squared:                       0.060\n",
            "Model:                             OLS   Adj. R-squared:                  0.060\n",
            "Method:                  Least Squares   F-statistic:                     1588.\n",
            "Date:                 Thu, 06 Mar 2025   Prob (F-statistic):               0.00\n",
            "Time:                         12:07:55   Log-Likelihood:                -69650.\n",
            "No. Observations:                74601   AIC:                         1.393e+05\n",
            "Df Residuals:                    74597   BIC:                         1.393e+05\n",
            "Df Model:                            3                                         \n",
            "Covariance Type:             nonrobust                                         \n",
            "===========================================================================================\n",
            "                              coef    std err          t      P>|t|      [0.025      0.975]\n",
            "-------------------------------------------------------------------------------------------\n",
            "Intercept                -139.7189      5.761    -24.253      0.000    -151.010    -128.427\n",
            "log_PrecioRegular           0.0767      0.003     22.680      0.000       0.070       0.083\n",
            "log_AnioFabricacion        18.8744      0.758     24.912      0.000      17.389      20.359\n",
            "log_PrecioNetoProductor    -0.1590      0.002    -64.718      0.000      -0.164      -0.154\n",
            "==============================================================================\n",
            "Omnibus:                     2664.379   Durbin-Watson:                   1.494\n",
            "Prob(Omnibus):                  0.000   Jarque-Bera (JB):             7976.005\n",
            "Skew:                           0.011   Prob(JB):                         0.00\n",
            "Kurtosis:                       4.602   Cond. No.                     2.45e+04\n",
            "==============================================================================\n",
            "\n",
            "Notes:\n",
            "[1] Standard Errors assume that the covariance matrix of the errors is correctly specified.\n",
            "[2] The condition number is large, 2.45e+04. This might indicate that there are\n",
            "strong multicollinearity or other numerical problems.\n"
          ]
        }
      ]
    },
    {
      "cell_type": "markdown",
      "source": [
        "### Diagnóstico del modelo 3\n",
        "\n",
        "🔹Prueba F de significancia global: p-valor menor que alfa, por ende el modelo ajusta los datos\n",
        "\n",
        "🔹Prueba T de significancia individual: todos los p-valor menores que alfa, por tanto todas las variables aportan al modelo\n",
        "\n",
        "🔹Bondad de ajuste: R2 dio 0.06."
      ],
      "metadata": {
        "id": "fCHfdHUW5f62"
      }
    },
    {
      "cell_type": "markdown",
      "source": [
        "##Iteración 3: Modelo 4 (transformación Lin-Log)"
      ],
      "metadata": {
        "id": "6V-JHfTp5jF2"
      }
    },
    {
      "cell_type": "markdown",
      "source": [
        "### Identificación Modelo 4\n",
        "\n",
        "Este modelo # 4 será estimado usando la transformación Lin-Log, es decir, aplicando logaritmos sobre las varibles .\n",
        "\n",
        "Entenderemos como variables posibles aquellas que no tengan valores cero.\n",
        "\n",
        "Por tanto, un primer supuesto que tendra este modelo es que eliminaremos los datos cuya cantidadvendida (Y: dependiente) sea cero.\n",
        "\n",
        "Como segundo supuesto, tendremos que descartar las variables categóricas del modelo. Esto significa que el modelo no puede incluir las variables primeravez, tipomarketing o Vendido. En las demás varibles escalares debemos también descartar los valores cero."
      ],
      "metadata": {
        "id": "gpgDcvLq56Eu"
      }
    },
    {
      "cell_type": "code",
      "source": [
        "# prompt: tome la base data_historica_precio_positivo y excluya los valores de  precioregular=0 y precionetoproducto=0 y aniofabricacion=0\n",
        "\n",
        "# Assuming 'data_historica_precio_positivo' is your DataFrame\n",
        "data_historica_precio_positivo4 = data_historica_precio_positivo[data_historica_precio_positivo['PrecioRegular'] != 0]\n",
        "data_historica_precio_positivo4 = data_historica_precio_positivo[data_historica_precio_positivo['PrecioNetoProductor'] != 0]\n",
        "data_historica_precio_positivo4 = data_historica_precio_positivo[data_historica_precio_positivo['AnioFabricacion'] != 0]\n",
        "\n",
        "# Contar el total de registros históricos\n",
        "total_registros_modelo3 = len(data_historica_precio_positivo3)\n",
        "\n",
        "print(f\"Total de registros históricos: {total_registros_modelo3}\")"
      ],
      "metadata": {
        "colab": {
          "base_uri": "https://localhost:8080/"
        },
        "id": "JGOi7mou6tNv",
        "outputId": "7371e629-663a-4a8a-ebb9-1fce44ca5d26"
      },
      "execution_count": null,
      "outputs": [
        {
          "output_type": "stream",
          "name": "stdout",
          "text": [
            "Total de registros históricos: 74601\n"
          ]
        }
      ]
    },
    {
      "cell_type": "markdown",
      "source": [
        "###Estimación modelo 4"
      ],
      "metadata": {
        "id": "d7WUw51h7YbP"
      }
    },
    {
      "cell_type": "code",
      "source": [
        "# prompt: toma la ecuación del modelo modelo4 = smf.ols(formula = 'CantidadVendida~PrecioRegular+AnioFabricacion+PrecioNetoProductor', data = data_historica_precio_positivo3)\n",
        "# y aplica logaritmo sobre las variables\n",
        "\n",
        "# Assuming 'data_historica_precio_positivo3' is your DataFrame and it has been prepared as in the previous code\n",
        "\n",
        "# Apply logarithm to the relevant columns, handling potential errors\n",
        "import numpy as np\n",
        "\n",
        "for col in ['PrecioRegular', 'AnioFabricacion', 'PrecioNetoProductor']:\n",
        "    # Use NumPy's log1p to handle zeros and near-zeros gracefully. log1p(x) = log(1+x)\n",
        "    data_historica_precio_positivo4[f'log_{col}'] = np.log1p(data_historica_precio_positivo3[col])\n",
        "\n",
        "# Now create and fit your model using the log-transformed variables:\n",
        "modelo4 = smf.ols(formula = 'CantidadVendida ~ log_PrecioRegular + log_AnioFabricacion + log_PrecioNetoProductor', data = data_historica_precio_positivo4)\n",
        "modelo4 = modelo4.fit()\n",
        "print(modelo4.summary())"
      ],
      "metadata": {
        "colab": {
          "base_uri": "https://localhost:8080/"
        },
        "id": "P42zYyfG7JR_",
        "outputId": "d1dbf327-ffb7-484e-e426-7fbdc7cbcc2e"
      },
      "execution_count": null,
      "outputs": [
        {
          "output_type": "stream",
          "name": "stdout",
          "text": [
            "                            OLS Regression Results                            \n",
            "==============================================================================\n",
            "Dep. Variable:        CantidadVendida   R-squared:                       0.043\n",
            "Model:                            OLS   Adj. R-squared:                  0.043\n",
            "Method:                 Least Squares   F-statistic:                     1129.\n",
            "Date:                Thu, 06 Mar 2025   Prob (F-statistic):               0.00\n",
            "Time:                        12:07:55   Log-Likelihood:            -3.7469e+05\n",
            "No. Observations:               74601   AIC:                         7.494e+05\n",
            "Df Residuals:                   74597   BIC:                         7.494e+05\n",
            "Df Model:                           3                                         \n",
            "Covariance Type:            nonrobust                                         \n",
            "===========================================================================================\n",
            "                              coef    std err          t      P>|t|      [0.025      0.975]\n",
            "-------------------------------------------------------------------------------------------\n",
            "Intercept               -8899.7782    343.814    -25.885      0.000   -9573.651   -8225.905\n",
            "log_PrecioRegular           3.1944      0.202     15.823      0.000       2.799       3.590\n",
            "log_AnioFabricacion      1177.8139     45.216     26.049      0.000    1089.191    1266.437\n",
            "log_PrecioNetoProductor    -7.6969      0.147    -52.502      0.000      -7.984      -7.410\n",
            "==============================================================================\n",
            "Omnibus:                    88811.463   Durbin-Watson:                   1.570\n",
            "Prob(Omnibus):                  0.000   Jarque-Bera (JB):         36563622.103\n",
            "Skew:                           5.894   Prob(JB):                         0.00\n",
            "Kurtosis:                     110.815   Cond. No.                     2.45e+04\n",
            "==============================================================================\n",
            "\n",
            "Notes:\n",
            "[1] Standard Errors assume that the covariance matrix of the errors is correctly specified.\n",
            "[2] The condition number is large, 2.45e+04. This might indicate that there are\n",
            "strong multicollinearity or other numerical problems.\n"
          ]
        }
      ]
    },
    {
      "cell_type": "markdown",
      "source": [
        "###Diagnóstico Modelo 4\n",
        "🔹Prueba F de significancia global: p-valor menor que alfa, por ende el modelo ajusta los datos\n",
        "\n",
        "🔹Prueba T de significancia individual: todos los p-valor menores que alfa, por tanto todas las variables aportan al modelo\n",
        "\n",
        "🔹Bondad de ajuste: R2 dio 0.043"
      ],
      "metadata": {
        "id": "O9vawaoi7egX"
      }
    },
    {
      "cell_type": "markdown",
      "source": [
        "  "
      ],
      "metadata": {
        "id": "aMQuAGvk8Mgf"
      }
    },
    {
      "cell_type": "markdown",
      "source": [
        "##Iteración 4: Modelo 5 (transformación Log-Lin)\n",
        "\n"
      ],
      "metadata": {
        "id": "7RYvRnUu8VQ3"
      }
    },
    {
      "cell_type": "markdown",
      "source": [
        "###Identificación modelo 5\n",
        "\n",
        "\n",
        "Este modelo # 5 será estimado usando la transformación Log-Lin, es decir, aplicando logaritmos sobre las variables escalares.\n",
        "\n",
        "Entenderemos como variables posibles aquellas que no tengan valores cero.\n",
        "\n",
        "Por tanto, un primer supuesto que tendra este modelo es que eliminaremos los datos cuya cantidadvendida (Y: dependiente) sea cero.\n",
        "\n",
        "En este si incluiremos las variables primeravez, tipomarketing o Vendido. En las demás varibles escalares debemos también descartar los valores cero."
      ],
      "metadata": {
        "id": "js91GxcM9DfH"
      }
    },
    {
      "cell_type": "code",
      "source": [
        "# prompt: tome la base data_historica_precio_positivo y excluya los valores de cantidadvendida que sean cero.\n",
        "\n",
        "# Assuming 'data_historica_precio_positivo' is your DataFrame\n",
        "data_historica_precio_positivo5 = data_historica_precio_positivo[data_historica_precio_positivo['CantidadVendida'] != 0]\n",
        "\n",
        "# Contar el total de registros históricos\n",
        "total_registros_modelo5 = len(data_historica_precio_positivo3)\n",
        "\n",
        "print(f\"Total de registros históricos: {total_registros_modelo3}\")"
      ],
      "metadata": {
        "colab": {
          "base_uri": "https://localhost:8080/"
        },
        "id": "7ocxrx079NXX",
        "outputId": "5cef1424-cc75-44cf-a109-de56770ef45c"
      },
      "execution_count": null,
      "outputs": [
        {
          "output_type": "stream",
          "name": "stdout",
          "text": [
            "Total de registros históricos: 74601\n"
          ]
        }
      ]
    },
    {
      "cell_type": "code",
      "source": [],
      "metadata": {
        "id": "L0ajallbhNHf"
      },
      "execution_count": null,
      "outputs": []
    },
    {
      "cell_type": "markdown",
      "source": [
        "### Estimación modelo 5"
      ],
      "metadata": {
        "id": "QYc4lEjThDBP"
      }
    },
    {
      "cell_type": "code",
      "source": [
        "# prompt: toma la ecuación del modelo modelo5 = smf.ols(formula = 'CantidadVendida~PrecioRegular+AnioFabricacion+PrecioNetoProductor', data = data_historica_precio_positivo3)\n",
        "# y aplica logaritmo sobre las variables\n",
        "\n",
        "# Assuming 'data_historica_precio_positivo3' is your DataFrame and it has been prepared as in the previous code\n",
        "\n",
        "# Apply logarithm to the relevant columns, handling potential errors\n",
        "import numpy as np\n",
        "\n",
        "for col in ['CantidadVendida', 'PrecioRegular', 'AnioFabricacion', 'PrecioNetoProductor']:\n",
        "    # Use NumPy's log1p to handle zeros and near-zeros gracefully. log1p(x) = log(1+x)\n",
        "    data_historica_precio_positivo3[f'log_{col}'] = np.log1p(data_historica_precio_positivo3[col])\n",
        "\n",
        "# Now create and fit your model using the log-transformed variables:\n",
        "modelo3 = smf.ols(formula = 'log_CantidadVendida ~ log_PrecioRegular + log_AnioFabricacion + log_PrecioNetoProductor',\n",
        "                  data = data_historica_precio_positivo3)\n",
        "modelo3 = modelo3.fit()\n",
        "print(modelo3.summary())"
      ],
      "metadata": {
        "colab": {
          "base_uri": "https://localhost:8080/"
        },
        "id": "huVhZxC6iahs",
        "outputId": "7c0d2013-bb9e-4d36-e597-5a5855059e81"
      },
      "execution_count": null,
      "outputs": [
        {
          "output_type": "stream",
          "name": "stdout",
          "text": [
            "                             OLS Regression Results                            \n",
            "===============================================================================\n",
            "Dep. Variable:     log_CantidadVendida   R-squared:                       0.060\n",
            "Model:                             OLS   Adj. R-squared:                  0.060\n",
            "Method:                  Least Squares   F-statistic:                     1588.\n",
            "Date:                 Thu, 06 Mar 2025   Prob (F-statistic):               0.00\n",
            "Time:                         12:07:55   Log-Likelihood:                -69650.\n",
            "No. Observations:                74601   AIC:                         1.393e+05\n",
            "Df Residuals:                    74597   BIC:                         1.393e+05\n",
            "Df Model:                            3                                         \n",
            "Covariance Type:             nonrobust                                         \n",
            "===========================================================================================\n",
            "                              coef    std err          t      P>|t|      [0.025      0.975]\n",
            "-------------------------------------------------------------------------------------------\n",
            "Intercept                -139.7189      5.761    -24.253      0.000    -151.010    -128.427\n",
            "log_PrecioRegular           0.0767      0.003     22.680      0.000       0.070       0.083\n",
            "log_AnioFabricacion        18.8744      0.758     24.912      0.000      17.389      20.359\n",
            "log_PrecioNetoProductor    -0.1590      0.002    -64.718      0.000      -0.164      -0.154\n",
            "==============================================================================\n",
            "Omnibus:                     2664.379   Durbin-Watson:                   1.494\n",
            "Prob(Omnibus):                  0.000   Jarque-Bera (JB):             7976.005\n",
            "Skew:                           0.011   Prob(JB):                         0.00\n",
            "Kurtosis:                       4.602   Cond. No.                     2.45e+04\n",
            "==============================================================================\n",
            "\n",
            "Notes:\n",
            "[1] Standard Errors assume that the covariance matrix of the errors is correctly specified.\n",
            "[2] The condition number is large, 2.45e+04. This might indicate that there are\n",
            "strong multicollinearity or other numerical problems.\n"
          ]
        }
      ]
    },
    {
      "cell_type": "markdown",
      "source": [
        "###Diagnostico modelo 5\n",
        "🔹 Prueba F de significancia global\n",
        "p-valor = 0.00 (menor que alfa 0.05), por lo que el modelo en conjunto es significativo y ajusta los datos.\n",
        "\n",
        "🔹Prueba T de significancia individual\n",
        "  Todos los\n",
        "p-valores son menores a 0.05, lo que indica que todas las variables son significativas en el modelo.\n",
        "\n",
        "🔹Bondad de ajuste\n",
        "𝑅\n",
        "2=0.060 R 2\n",
        " =0.060, es decir, solo el 6% de la variabilidad en CantidadVendida es explicada por el modelo.\n",
        "Capacidad predictiva baja, lo que sugiere que pueden faltar variables explicativas relevantes"
      ],
      "metadata": {
        "id": "F3Ix13XkhRKs"
      }
    },
    {
      "cell_type": "markdown",
      "source": [
        "## Iteración 5: modelo 6 (Lin-Lin)\n"
      ],
      "metadata": {
        "id": "Ocj5sYbJBde3"
      }
    },
    {
      "cell_type": "markdown",
      "source": [
        "### Identifiacion modelo 6\n",
        "Este Modelo Categórico será estimado usando Regresión Lineal Múltiple (Lin-Lin), es decir, sin transformaciones logarítmicas en las variables escalares.\n",
        "\n",
        "En este caso, incorporamos variables cualitativas (TipoMarketing y PrimeraVez) para evaluar si las estrategias de marketing y la primera venta afectan la cantidad vendida.\n",
        "\n",
        "🔹 Supuestos del Modelo:\n",
        "\n",
        "1️⃣ Solo consideramos datos donde\n",
        "\n",
        "CantidadVendida (Y: dependiente) sea mayor que cero, ya que un producto que no ha vendido no aporta información útil en este modelo.\n",
        "\n",
        "2️⃣ Las variables categóricas (TipoMarketing, PrimeraVez) no necesitan transformación logarítmica y serán convertidas en dummies para su correcta interpretación.\n",
        "\n",
        "3️⃣ Las variables escalares (PrecioRegular, AnioFabricacion, PrecioNetoProductor) deben tener valores mayores a cero para evitar sesgos en la estimación.\n",
        "\n",
        "Este modelo nos permitirá evaluar el impacto de estrategias de marketing y el efecto de la primera venta en la cantidad vendida, complementando los modelos previos basados solo en variables numéricas."
      ],
      "metadata": {
        "id": "qu8UiXCPG3Xu"
      }
    },
    {
      "cell_type": "markdown",
      "source": [
        "### Estimación modelo 6"
      ],
      "metadata": {
        "id": "8wlCa3XtHQAX"
      }
    },
    {
      "source": [
        "\n",
        "# Assuming 'data_historica_precio_positivo' contains the 'TipoMarketing' column\n",
        "data_historica_precio_positivo3 = data_historica_precio_positivo.copy()  # Create a copy to avoid modifying the original DataFrame\n",
        "\n",
        "# Convertir variables categóricas en dummies y eliminar una categoría de referencia\n",
        "data_historica_precio_positivo3 = pd.get_dummies(data_historica_precio_positivo3,\n",
        "                                                 columns=['TipoMarketing'], drop_first=True)\n",
        "\n",
        "# Definir el modelo de regresión\n",
        "modelo_categorico = smf.ols(formula='CantidadVendida ~ PrecioRegular + AnioFabricacion + PrecioNetoProductor + TipoMarketing_S + PrimeraVez',\n",
        "    data=data_historica_precio_positivo3\n",
        ").fit()\n",
        "\n",
        "# Mostrar resultados\n",
        "print(modelo_categorico.summary())"
      ],
      "cell_type": "code",
      "metadata": {
        "colab": {
          "base_uri": "https://localhost:8080/"
        },
        "id": "D1AalLuNEUDo",
        "outputId": "a5359688-a53d-4965-8043-418895ea0e9f"
      },
      "execution_count": null,
      "outputs": [
        {
          "output_type": "stream",
          "name": "stdout",
          "text": [
            "                            OLS Regression Results                            \n",
            "==============================================================================\n",
            "Dep. Variable:        CantidadVendida   R-squared:                       0.044\n",
            "Model:                            OLS   Adj. R-squared:                  0.044\n",
            "Method:                 Least Squares   F-statistic:                     681.9\n",
            "Date:                Thu, 06 Mar 2025   Prob (F-statistic):               0.00\n",
            "Time:                        12:07:55   Log-Likelihood:            -3.7468e+05\n",
            "No. Observations:               74601   AIC:                         7.494e+05\n",
            "Df Residuals:                   74595   BIC:                         7.494e+05\n",
            "Df Model:                           5                                         \n",
            "Covariance Type:            nonrobust                                         \n",
            "===========================================================================================\n",
            "                              coef    std err          t      P>|t|      [0.025      0.975]\n",
            "-------------------------------------------------------------------------------------------\n",
            "Intercept               -1096.3425     45.978    -23.845      0.000   -1186.458   -1006.227\n",
            "TipoMarketing_S[T.True]   -11.3584      0.276    -41.217      0.000     -11.899     -10.818\n",
            "PrecioRegular               0.0148      0.002      8.436      0.000       0.011       0.018\n",
            "AnioFabricacion             0.5688      0.023     24.785      0.000       0.524       0.614\n",
            "PrecioNetoProductor        -0.0283      0.001    -24.831      0.000      -0.031      -0.026\n",
            "PrimeraVez                  7.0784      0.339     20.880      0.000       6.414       7.743\n",
            "==============================================================================\n",
            "Omnibus:                    90656.223   Durbin-Watson:                   1.584\n",
            "Prob(Omnibus):                  0.000   Jarque-Bera (JB):         39951710.578\n",
            "Skew:                           6.109   Prob(JB):                         0.00\n",
            "Kurtosis:                     115.710   Cond. No.                     6.87e+05\n",
            "==============================================================================\n",
            "\n",
            "Notes:\n",
            "[1] Standard Errors assume that the covariance matrix of the errors is correctly specified.\n",
            "[2] The condition number is large, 6.87e+05. This might indicate that there are\n",
            "strong multicollinearity or other numerical problems.\n"
          ]
        }
      ]
    },
    {
      "cell_type": "markdown",
      "source": [
        "### Diagnostico modelo 6\n",
        "🔹Prueba F de significancia global: El p-valor es 0.00, menor que el nivel de significancia estándar (por ejemplo, 0.05), lo que indica que el modelo en su conjunto es significativo y ajusta los datos.\n",
        "\n",
        "🔹Prueba T de significancia individual: Todas las variables tienen un p-valor menor que 0.05, lo que sugiere que cada una aporta significativamente al modelo.\n",
        "\n",
        "🔹Bondad de ajuste: El coeficiente de determinación R² = 0.044, lo que indica que el modelo explica aproximadamente 4.4% de la variabilidad en la cantidad vendida. Aunque es bajo, puede ser útil dependiendo del contexto del análisis."
      ],
      "metadata": {
        "id": "RPC3QO9ZHXFK"
      }
    },
    {
      "cell_type": "markdown",
      "source": [
        "##Iteracion 6: modelo 7 (Log-log categoricas)"
      ],
      "metadata": {
        "id": "gBlB9RYGTUwJ"
      }
    },
    {
      "cell_type": "markdown",
      "source": [
        "###Identificacion modelo 7\n",
        "\n",
        "Este modelo #7 será estimado usando la transformación Log-Log mejorada, es decir, aplicando logaritmos sobre todas las variables escalares posibles y añadiendo interacciones para mejorar la capacidad explicativa.\n",
        "\n",
        "Entenderemos como variables posibles aquellas que no tengan valores cero, utilizando la transformación np.log1p() para evitar la eliminación de datos.\n",
        "\n",
        "\n",
        "En este modelo sí incluimos las variables Primeravez y TipoMarketing, permitiendo evaluar su impacto en las ventas. Además, agregamos interacciones entre variables para capturar efectos combinados.\n"
      ],
      "metadata": {
        "id": "DGuSXq0jUAR4"
      }
    },
    {
      "cell_type": "markdown",
      "source": [
        "###Estimación modelo 7"
      ],
      "metadata": {
        "id": "aET-7p7YU7G2"
      }
    },
    {
      "cell_type": "code",
      "source": [
        "data['log_CantidadVendida'] = np.log1p(data['CantidadVendida'])\n",
        "data['log_PrecioRegular'] = np.log1p(data['PrecioRegular'])\n",
        "data['log_MenorPrecioVenta'] = np.log1p(data['MenorPrecioVenta'])\n",
        "data['log_PrecioNetoProductor'] = np.log1p(data['PrecioNetoProductor'])\n",
        "\n",
        "# Convertir variables categóricas en dummies\n",
        "data = pd.get_dummies(data, columns=[\"TipoMarketing\", \"PrimeraVez\"], drop_first=True)\n",
        "\n",
        "# Agregar interacciones para mejorar la capacidad explicativa\n",
        "data['log_PrecioRegular_x_AnioFabricacion'] = data['log_PrecioRegular'] * data['AnioFabricacion']\n",
        "data['log_PrecioNetoProductor_x_TipoMarketing_S'] = data['log_PrecioNetoProductor'] * data['TipoMarketing_S']\n",
        "\n",
        "modelo4 = smf.ols(\n",
        "    formula='log_CantidadVendida ~ log_PrecioRegular + log_MenorPrecioVenta + \\\n",
        "             log_PrecioNetoProductor + AnioFabricacion + TipoMarketing_S + PrimeraVez_1 + \\\n",
        "             log_PrecioRegular_x_AnioFabricacion + log_PrecioNetoProductor_x_TipoMarketing_S',\n",
        "    data=data\n",
        ")\n",
        "modelo4 = modelo4.fit()\n",
        "\n",
        "print(modelo4.summary())\n"
      ],
      "metadata": {
        "colab": {
          "base_uri": "https://localhost:8080/"
        },
        "id": "tHvnClMYSnEx",
        "outputId": "ea3d7b77-9778-4253-9728-674b6ecf2593"
      },
      "execution_count": null,
      "outputs": [
        {
          "output_type": "stream",
          "name": "stdout",
          "text": [
            "                             OLS Regression Results                            \n",
            "===============================================================================\n",
            "Dep. Variable:     log_CantidadVendida   R-squared:                       0.110\n",
            "Model:                             OLS   Adj. R-squared:                  0.110\n",
            "Method:                  Least Squares   F-statistic:                     3085.\n",
            "Date:                 Thu, 06 Mar 2025   Prob (F-statistic):               0.00\n",
            "Time:                         12:07:56   Log-Likelihood:            -1.8179e+05\n",
            "No. Observations:               198917   AIC:                         3.636e+05\n",
            "Df Residuals:                   198908   BIC:                         3.637e+05\n",
            "Df Model:                            8                                         \n",
            "Covariance Type:             nonrobust                                         \n",
            "=============================================================================================================\n",
            "                                                coef    std err          t      P>|t|      [0.025      0.975]\n",
            "-------------------------------------------------------------------------------------------------------------\n",
            "Intercept                                    25.2825      0.990     25.528      0.000      23.341      27.224\n",
            "TipoMarketing_S[T.True]                      -0.1712      0.010    -17.422      0.000      -0.190      -0.152\n",
            "PrimeraVez_1[T.True]                          0.2659      0.003     91.725      0.000       0.260       0.272\n",
            "log_PrecioRegular                            -6.2351      0.240    -25.987      0.000      -6.705      -5.765\n",
            "log_MenorPrecioVenta                         -0.0115      0.001     -9.695      0.000      -0.014      -0.009\n",
            "log_PrecioNetoProductor                      -0.1586      0.002    -78.737      0.000      -0.163      -0.155\n",
            "AnioFabricacion                              -0.0109      0.000    -21.991      0.000      -0.012      -0.010\n",
            "log_PrecioRegular_x_AnioFabricacion           0.0032      0.000     26.454      0.000       0.003       0.003\n",
            "log_PrecioNetoProductor_x_TipoMarketing_S     0.0271      0.003      9.901      0.000       0.022       0.033\n",
            "==============================================================================\n",
            "Omnibus:                    11553.564   Durbin-Watson:                   1.545\n",
            "Prob(Omnibus):                  0.000   Jarque-Bera (JB):            50697.516\n",
            "Skew:                          -0.008   Prob(JB):                         0.00\n",
            "Kurtosis:                       5.473   Cond. No.                     6.65e+06\n",
            "==============================================================================\n",
            "\n",
            "Notes:\n",
            "[1] Standard Errors assume that the covariance matrix of the errors is correctly specified.\n",
            "[2] The condition number is large, 6.65e+06. This might indicate that there are\n",
            "strong multicollinearity or other numerical problems.\n"
          ]
        }
      ]
    },
    {
      "cell_type": "markdown",
      "source": [
        "###Diagnostico modelo 7\n",
        "🔹 Prueba F de significancia global: El p-valor es 0.00, menor que el nivel de significancia estándar (0.05), lo que indica que el modelo en su conjunto es significativo y ajusta los datos.\n",
        "\n",
        "🔹 Prueba T de significancia individual: La mayoría de las variables tienen un p-valor menor que 0.05, lo que sugiere que aportan significativamente al modelo.\n",
        "\n",
        "🔹 Bondad de ajuste: El coeficiente de determinación R² = 0.11, lo que indica que el modelo explica aproximadamente 11% de la variabilidad en la cantidad vendida. Aunque sigue siendo bajo, representa una mejora con respecto a modelos anteriores y sugiere que otros factores no incluidos pueden influir en las ventas"
      ],
      "metadata": {
        "id": "OPR4nNIxVAhs"
      }
    },
    {
      "cell_type": "markdown",
      "source": [
        "##Resultados de los modelos - Análisis estructural: O el proceso de interpretar los estimadores.\n",
        "\n",
        "Cao 1: Modelo Lin - Lin: Variación absoluta\n",
        "\n",
        "Ejemplo: Betaprecioregular= 0.00093: A un cambio de una unidad (un dólar) en el precio regular del producto, la cantidad vendida aumentará en 0.0093 unidades"
      ],
      "metadata": {
        "id": "Xvojp-3QZZZb"
      }
    },
    {
      "cell_type": "markdown",
      "source": [
        "##Conclusiones\n",
        "\n",
        "Bajo el modelo #1 encontramos varias cosas\n",
        "\n",
        "**Modelo #1**\n",
        "\n",
        "1️⃣ El modelo ajusta los datos según la prueba F.\n",
        "\n",
        "2️⃣ Se identificó que la variable MenorPrecioVenta no aporta significativamente, mientras que las demás variables sí son relevantes.\n",
        "\n",
        "3️⃣ R² = 8.4%, lo que indica que las variables explican el 8.4% de la variabilidad en la cantidad vendida.\n",
        "\n",
        "\n",
        "\n",
        "**Modelo #2**\n",
        "\n",
        "1️⃣ El modelo sigue ajustando los datos según la prueba F.\n",
        "\n",
        "2️⃣ Todas las variables incluidas son significativas.\n",
        "\n",
        "3️⃣ R² = 8.4%, idéntico al modelo #1, lo que sugiere que la exclusión de MenorPrecioVenta no tuvo un impacto relevante.\n",
        "\n",
        "\n",
        "\n",
        "**Modelo #3**\n",
        "\n",
        "1️⃣ El modelo sigue siendo significativo globalmente.\n",
        "\n",
        "2️⃣ Todas las variables siguen aportando al modelo.\n",
        "\n",
        "3️⃣ R² = 6%, lo que indica una caída en la capacidad explicativa con respecto a modelos anteriores.\n",
        "\n",
        "\n",
        "\n",
        "**Modelo #4**\n",
        "\n",
        "1️⃣ El modelo ajusta los datos según la prueba F.\n",
        "\n",
        "2️⃣ Todas las variables son significativas individualmente.\n",
        "\n",
        "3️⃣ R² = 4.3%, menor que los modelos anteriores, lo que indica una pérdida en la capacidad explicativa.\n",
        "\n",
        "\n",
        "**Modelo #5**\n",
        "\n",
        "1️⃣ El modelo sigue ajustando los datos.\n",
        "\n",
        "2️⃣ Todas las variables son significativas.\n",
        "\n",
        "3️⃣ R² = 6%, lo que representa una leve mejora con respecto a algunos modelos anteriores, pero sigue siendo baja la capacidad explicativa.\n",
        "\n",
        "\n",
        "\n",
        "**Modelo #6**\n",
        "\n",
        "1️⃣ El modelo es significativo en su conjunto.\n",
        "\n",
        "2️⃣ Todas las variables tienen un impacto significativo.\n",
        "\n",
        "3️⃣ R² = 4.4%, lo que confirma que el modelo sigue sin capturar toda la variabilidad de la cantidad vendida.\n",
        "\n",
        "\n",
        "\n",
        "**Modelo #7**\n",
        "\n",
        "1️⃣ El modelo ajusta los datos según la prueba F.\n",
        "\n",
        "2️⃣ La mayoría de las variables son significativas.\n",
        "\n",
        "3️⃣ R² = 11%, el mejor ajuste obtenido hasta ahora, aunque sigue siendo relativamente bajo.\n",
        "\n",
        "**Tras evaluar los diferentes modelos estimados, podemos determinar que el Modelo #7 es el mejor hasta el momento.**\n",
        "\n"
      ],
      "metadata": {
        "id": "KqKPWCDNCjJq"
      }
    },
    {
      "cell_type": "markdown",
      "source": [
        "## 📌 Mejor Modelo de Regresión Lineal para Explicar las Cantidades Vendidas\n",
        "Después de probar múltiples modelos, el mejor modelo identificado es el Modelo #7, que utiliza una transformación Log-Log mejorada e incluye interacciones entre variables clave. Este modelo explica el 11% de la variabilidad en las ventas, el porcentaje más alto entre todas las opciones evaluadas.\n",
        "\n",
        "📊 Características del Mejor Modelo\n",
        "\n",
        "✅ Transformación Log-Log: Se aplica logaritmo a las variables escalares para mejorar la interpretación y estabilizar la varianza.\n",
        "\n",
        "✅ Variables Incluidas:\n",
        "\n",
        "Precio Regular 📈\n",
        "Menor Precio de Venta 📉\n",
        "Precio Neto del Productor 📉\n",
        "Año de Fabricación ⏳\n",
        "Estrategia de Marketing (D vs. S) 📢\n",
        "Si el producto es nuevo en tienda (PrimeraVez) 🆕\n",
        "\n",
        "✅ Interacciones añadidas para capturar relaciones más complejas entre variables.\n",
        "\n",
        "✅ Significancia estadística: Todas las variables incluidas son significativas (p < 0.05).\n",
        "\n",
        "📌 Recomendaciones para Implementación\n",
        "1️⃣ Ajuste de Precios:\n",
        "\n",
        "Se identificó que un precio regular más alto está asociado con mayores ventas, lo que sugiere que los clientes pueden percibir los productos con un precio bajo como de menor calidad. Se recomienda revisar la estrategia de precios y evaluar posibles aumentos en productos con alta demanda.\n",
        "\n",
        "2️⃣ Optimización de Estrategia de Marketing:\n",
        "\n",
        "Los productos con marketing de tipo \"S\" venden menos que los de tipo \"D\", lo que indica que se debe revisar si la estrategia publicitaria utilizada en esta categoría es la adecuada.\n",
        "Se recomienda focalizar campañas en productos nuevos, ya que los datos muestran que tienen mayor rotación.\n",
        "\n",
        "3️⃣ Gestión del Inventario:\n",
        "\n",
        "Los productos más recientes en fabricación tienden a venderse mejor, lo que sugiere que los clientes prefieren artículos más nuevos. Se recomienda priorizar productos más recientes en la exhibición.\n",
        "Productos con un menor precio de venta no siempre generan más ventas, lo que indica que las promociones deben analizarse con más detalle para evitar descuentos innecesarios.\n",
        "\n",
        "4️⃣ Próximos pasos:\n",
        "\n",
        "Implementar el modelo en la toma de decisiones de inventario y estrategias de precios.\n",
        "Realizar pruebas A/B en tiendas para validar el impacto de los cambios en ventas.\n",
        "Seguir explorando nuevas variables y posibles mejoras en el modelo.\n",
        "🚀 Con este modelo, Lidl podrá mejorar su estrategia de inventario y precios, maximizando la rentabilidad y optimizando la rotación de productos."
      ],
      "metadata": {
        "id": "KTOYtOifDdSv"
      }
    }
  ]
}